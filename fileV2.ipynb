{
 "cells": [
  {
   "cell_type": "markdown",
   "metadata": {
    "id": "brTEl-dWbcMP"
   },
   "source": [
    "# New Section"
   ]
  },
  {
   "cell_type": "code",
   "execution_count": 1,
   "metadata": {
    "executionInfo": {
     "elapsed": 310,
     "status": "ok",
     "timestamp": 1625167970061,
     "user": {
      "displayName": "Abhishek C",
      "photoUrl": "https://lh3.googleusercontent.com/a-/AOh14GjwxF4JEJ5cXi-ddE56kpTJOW5GKFexVNBXycHKBAk=s64",
      "userId": "10930949096524814571"
     },
     "user_tz": -330
    },
    "id": "cYbnuD08bcuT"
   },
   "outputs": [],
   "source": [
    "import tensorflow as tf\n",
    "from tensorflow import keras\n",
    "from tensorflow.keras.models import Sequential\n",
    "from tensorflow.keras.layers import Activation, Dropout, Flatten, Dense, Conv2D, MaxPooling2D, BatchNormalization, Dropout\n",
    "from tensorflow.keras.preprocessing.image import ImageDataGenerator\n",
    "from tensorflow.keras.preprocessing import image_dataset_from_directory"
   ]
  },
  {
   "cell_type": "code",
   "execution_count": null,
   "metadata": {
    "colab": {
     "base_uri": "https://localhost:8080/"
    },
    "executionInfo": {
     "elapsed": 5537,
     "status": "ok",
     "timestamp": 1625165884346,
     "user": {
      "displayName": "Abhishek C",
      "photoUrl": "https://lh3.googleusercontent.com/a-/AOh14GjwxF4JEJ5cXi-ddE56kpTJOW5GKFexVNBXycHKBAk=s64",
      "userId": "10930949096524814571"
     },
     "user_tz": -330
    },
    "id": "-TgFpK7IbsCt",
    "outputId": "0ba828b8-350c-40a8-ac34-3015aa771176"
   },
   "outputs": [],
   "source": [
    "#!pip install -q -U keras-tuner"
   ]
  },
  {
   "cell_type": "code",
   "execution_count": null,
   "metadata": {
    "executionInfo": {
     "elapsed": 828,
     "status": "ok",
     "timestamp": 1625165885171,
     "user": {
      "displayName": "Abhishek C",
      "photoUrl": "https://lh3.googleusercontent.com/a-/AOh14GjwxF4JEJ5cXi-ddE56kpTJOW5GKFexVNBXycHKBAk=s64",
      "userId": "10930949096524814571"
     },
     "user_tz": -330
    },
    "id": "E1bIqz1tbvQp"
   },
   "outputs": [],
   "source": [
    "import keras_tuner as kt"
   ]
  },
  {
   "cell_type": "code",
   "execution_count": 4,
   "metadata": {
    "executionInfo": {
     "elapsed": 7,
     "status": "ok",
     "timestamp": 1625166117840,
     "user": {
      "displayName": "Abhishek C",
      "photoUrl": "https://lh3.googleusercontent.com/a-/AOh14GjwxF4JEJ5cXi-ddE56kpTJOW5GKFexVNBXycHKBAk=s64",
      "userId": "10930949096524814571"
     },
     "user_tz": -330
    },
    "id": "J45H3SvIbwu_"
   },
   "outputs": [],
   "source": [
    "#Data augmentation\n",
    "\n",
    "image_gen = ImageDataGenerator(rotation_range=80, # rotate the image 30 degrees\n",
    "                               width_shift_range=0.3, # Shift the pic width by a max of 30%\n",
    "                               height_shift_range=0.3, # Shift the pic height by a max of 30%\n",
    "                               rescale=1/255, # Rescale the image by normalzing it.\n",
    "                               shear_range=0.2, # Shear means cutting away part of the image (max 20%)\n",
    "                               zoom_range=[0.2, 1.6], # Zoom in by 160% max, -20% min\n",
    "                               horizontal_flip=True, # Allo horizontal flipping\n",
    "                               vertical_flip=True,\n",
    "                               fill_mode='wrap') # Fill in missing pixels with the nearest filled value                          "
   ]
  },
  {
   "cell_type": "code",
   "execution_count": 5,
   "metadata": {},
   "outputs": [
    {
     "data": {
      "text/plain": [
       "'C:\\\\python\\\\Data Science Training\\\\Prjects\\\\glucoma'"
      ]
     },
     "execution_count": 5,
     "metadata": {},
     "output_type": "execute_result"
    }
   ],
   "source": [
    "pwd"
   ]
  },
  {
   "cell_type": "code",
   "execution_count": 6,
   "metadata": {
    "colab": {
     "base_uri": "https://localhost:8080/"
    },
    "executionInfo": {
     "elapsed": 355,
     "status": "ok",
     "timestamp": 1625168048735,
     "user": {
      "displayName": "Abhishek C",
      "photoUrl": "https://lh3.googleusercontent.com/a-/AOh14GjwxF4JEJ5cXi-ddE56kpTJOW5GKFexVNBXycHKBAk=s64",
      "userId": "10930949096524814571"
     },
     "user_tz": -330
    },
    "id": "JMx8KA4lcpzK",
    "outputId": "3fcc24fc-8234-4680-8328-7cc02f0753c8"
   },
   "outputs": [
    {
     "name": "stdout",
     "output_type": "stream",
     "text": [
      "Found 60 images belonging to 2 classes.\n"
     ]
    }
   ],
   "source": [
    "train_image_gen = image_gen.flow_from_directory('dataset/train',\n",
    "                                               target_size=(192,192),\n",
    "                                               batch_size=5,\n",
    "                                               class_mode='binary')"
   ]
  },
  {
   "cell_type": "code",
   "execution_count": 7,
   "metadata": {
    "colab": {
     "base_uri": "https://localhost:8080/"
    },
    "executionInfo": {
     "elapsed": 315,
     "status": "ok",
     "timestamp": 1625168050579,
     "user": {
      "displayName": "Abhishek C",
      "photoUrl": "https://lh3.googleusercontent.com/a-/AOh14GjwxF4JEJ5cXi-ddE56kpTJOW5GKFexVNBXycHKBAk=s64",
      "userId": "10930949096524814571"
     },
     "user_tz": -330
    },
    "id": "5DnWLseedU2I",
    "outputId": "8e1a9370-fc06-4daf-f5d8-5f6286f3559e"
   },
   "outputs": [
    {
     "name": "stdout",
     "output_type": "stream",
     "text": [
      "Found 20 images belonging to 2 classes.\n"
     ]
    }
   ],
   "source": [
    "test_image_gen = image_gen.flow_from_directory('dataset/test',\n",
    "                                               target_size=(192,192),\n",
    "                                               batch_size=5,\n",
    "                                               class_mode='binary')"
   ]
  },
  {
   "cell_type": "code",
   "execution_count": null,
   "metadata": {
    "executionInfo": {
     "elapsed": 305,
     "status": "ok",
     "timestamp": 1625169892886,
     "user": {
      "displayName": "Abhishek C",
      "photoUrl": "https://lh3.googleusercontent.com/a-/AOh14GjwxF4JEJ5cXi-ddE56kpTJOW5GKFexVNBXycHKBAk=s64",
      "userId": "10930949096524814571"
     },
     "user_tz": -330
    },
    "id": "itxV5ap9dYYm"
   },
   "outputs": [],
   "source": [
    "def build_model(hp):\n",
    "    model = keras.Sequential()\n",
    "\n",
    "    model.add(Conv2D(filters=hp.Int(\"first_conv\", min_value=16, max_value=128, step=16), \n",
    "                     kernel_size=(3, 3), input_shape=(192, 192, 3)))\n",
    "    model.add(Activation('relu'))\n",
    "    model.add(MaxPooling2D(pool_size=(2, 2)))\n",
    "    \n",
    "    # for i in range(hp.Int(\"n_layers\", 1, 4)):\n",
    "    #     model.add(Conv2D(hp.Int(f\"second_conv{i}\", min_value=8, max_value=128, step=8), (3, 3)))\n",
    "    #     model.add(Activation('relu'))\n",
    "\n",
    "    model.add(Flatten())  \n",
    "\n",
    "    model.add(Dense(1))\n",
    "    model.add(Activation(\"sigmoid\"))\n",
    "\n",
    "    hp_learning_rate = hp.Choice('learning_rate', values=[1e-2, 1e-3, 1e-4, 3e-2, 3e-3, 3e-4])\n",
    "    model.compile(optimizer=keras.optimizers.Adam(learning_rate=hp_learning_rate),\n",
    "                  loss=tf.keras.losses.BinaryCrossentropy(),\n",
    "                  metrics=[\"accuracy\"])\n",
    "    \n",
    "    return model"
   ]
  },
  {
   "cell_type": "code",
   "execution_count": null,
   "metadata": {
    "colab": {
     "base_uri": "https://localhost:8080/"
    },
    "executionInfo": {
     "elapsed": 566,
     "status": "ok",
     "timestamp": 1625169894812,
     "user": {
      "displayName": "Abhishek C",
      "photoUrl": "https://lh3.googleusercontent.com/a-/AOh14GjwxF4JEJ5cXi-ddE56kpTJOW5GKFexVNBXycHKBAk=s64",
      "userId": "10930949096524814571"
     },
     "user_tz": -330
    },
    "id": "zkDr8IN5esG7",
    "outputId": "176ec6d3-e655-45eb-87a8-45f5f278c450"
   },
   "outputs": [],
   "source": [
    "tuner = kt.Hyperband(build_model,\n",
    "                     objective='val_accuracy',\n",
    "                     max_epochs=30,\n",
    "                     factor=3,\n",
    "                     directory='my_dir',\n",
    "                     project_name='intro_to_kt')"
   ]
  },
  {
   "cell_type": "code",
   "execution_count": null,
   "metadata": {
    "executionInfo": {
     "elapsed": 306,
     "status": "ok",
     "timestamp": 1625169897904,
     "user": {
      "displayName": "Abhishek C",
      "photoUrl": "https://lh3.googleusercontent.com/a-/AOh14GjwxF4JEJ5cXi-ddE56kpTJOW5GKFexVNBXycHKBAk=s64",
      "userId": "10930949096524814571"
     },
     "user_tz": -330
    },
    "id": "_j0n4LNjfQ4L"
   },
   "outputs": [],
   "source": [
    "stop_early = tf.keras.callbacks.EarlyStopping(monitor='val_loss', patience=5)"
   ]
  },
  {
   "cell_type": "code",
   "execution_count": null,
   "metadata": {
    "colab": {
     "base_uri": "https://localhost:8080/"
    },
    "executionInfo": {
     "elapsed": 935140,
     "status": "ok",
     "timestamp": 1625170868473,
     "user": {
      "displayName": "Abhishek C",
      "photoUrl": "https://lh3.googleusercontent.com/a-/AOh14GjwxF4JEJ5cXi-ddE56kpTJOW5GKFexVNBXycHKBAk=s64",
      "userId": "10930949096524814571"
     },
     "user_tz": -330
    },
    "id": "Lvk8GNDQhpIs",
    "outputId": "c29cfdb8-4937-468c-927f-e38047498d34"
   },
   "outputs": [],
   "source": [
    "tuner.search(train_image_gen, \n",
    "             epochs=50, \n",
    "             validation_data=test_image_gen, \n",
    "             callbacks=[stop_early])"
   ]
  },
  {
   "cell_type": "code",
   "execution_count": null,
   "metadata": {
    "colab": {
     "base_uri": "https://localhost:8080/"
    },
    "executionInfo": {
     "elapsed": 314,
     "status": "ok",
     "timestamp": 1625171206236,
     "user": {
      "displayName": "Abhishek C",
      "photoUrl": "https://lh3.googleusercontent.com/a-/AOh14GjwxF4JEJ5cXi-ddE56kpTJOW5GKFexVNBXycHKBAk=s64",
      "userId": "10930949096524814571"
     },
     "user_tz": -330
    },
    "id": "REkA1nmviHRA",
    "outputId": "9fb3ea80-dd50-47b3-c558-4af6b6517741"
   },
   "outputs": [],
   "source": [
    "# Get the optimal hyperparameters\n",
    "best_hps=tuner.get_best_hyperparameters(num_trials=1)[0]\n",
    "\n",
    "print(best_hps.get('first_conv'))\n",
    "print(best_hps.get('learning_rate'))"
   ]
  },
  {
   "cell_type": "code",
   "execution_count": null,
   "metadata": {
    "id": "3jkcjfotkY2v"
   },
   "outputs": [],
   "source": [
    "model = tuner.hypermodel.build(best_hps)\n",
    "history = model.fit(train_dataset, epochs=50, validation_data=test_dataset)"
   ]
  },
  {
   "cell_type": "code",
   "execution_count": null,
   "metadata": {
    "colab": {
     "base_uri": "https://localhost:8080/"
    },
    "executionInfo": {
     "elapsed": 1450,
     "status": "ok",
     "timestamp": 1625171505460,
     "user": {
      "displayName": "Abhishek C",
      "photoUrl": "https://lh3.googleusercontent.com/a-/AOh14GjwxF4JEJ5cXi-ddE56kpTJOW5GKFexVNBXycHKBAk=s64",
      "userId": "10930949096524814571"
     },
     "user_tz": -330
    },
    "id": "aT_w3O_rv7cG",
    "outputId": "a8c1376f-d918-4c47-8c12-f5cc926d6bfc"
   },
   "outputs": [],
   "source": [
    "model.evaluate(train_dataset)"
   ]
  },
  {
   "cell_type": "code",
   "execution_count": null,
   "metadata": {
    "colab": {
     "base_uri": "https://localhost:8080/"
    },
    "executionInfo": {
     "elapsed": 543,
     "status": "ok",
     "timestamp": 1625171505997,
     "user": {
      "displayName": "Abhishek C",
      "photoUrl": "https://lh3.googleusercontent.com/a-/AOh14GjwxF4JEJ5cXi-ddE56kpTJOW5GKFexVNBXycHKBAk=s64",
      "userId": "10930949096524814571"
     },
     "user_tz": -330
    },
    "id": "d6hmZccbw_Za",
    "outputId": "f9d4cd6f-28a5-4144-e8e4-3aac2f708bd0"
   },
   "outputs": [],
   "source": [
    "model.evaluate(test_dataset)"
   ]
  },
  {
   "cell_type": "code",
   "execution_count": 10,
   "metadata": {
    "colab": {
     "base_uri": "https://localhost:8080/"
    },
    "executionInfo": {
     "elapsed": 399,
     "status": "ok",
     "timestamp": 1625172492940,
     "user": {
      "displayName": "Abhishek C",
      "photoUrl": "https://lh3.googleusercontent.com/a-/AOh14GjwxF4JEJ5cXi-ddE56kpTJOW5GKFexVNBXycHKBAk=s64",
      "userId": "10930949096524814571"
     },
     "user_tz": -330
    },
    "id": "0LaT9zOvxBdJ",
    "outputId": "0c086890-5ffb-4808-98de-d1ac6e56d621"
   },
   "outputs": [
    {
     "name": "stdout",
     "output_type": "stream",
     "text": [
      "[[0.00140059]]\n"
     ]
    }
   ],
   "source": [
    "import numpy as np\n",
    "from tensorflow.keras.preprocessing import image\n",
    "\n",
    "#C:\\python\\Data Science Training\\Prjects\\glucoma\\non-glucoma\\1 (13).jpg\n",
    "#C:\\python\\Data Science Training\\Prjects\\glucoma\\Glaucoma\\2 (13).jpg\n",
    "\n",
    "img_file = r'C:\\python\\Data Science Training\\Prjects\\glucoma\\Glaucoma\\2 (11).jpg'\n",
    "\n",
    "img_file = image.load_img(img_file, target_size=(192, 192))\n",
    "\n",
    "# img_file = image.img_to_array(img_file)\n",
    "img_file = np.array(img_file)\n",
    "\n",
    "img_file = np.expand_dims(img_file, axis=0)\n",
    "img_file = img_file/255\n",
    "\n",
    "\n",
    "prediction_prob = saved_model.predict(img_file)\n",
    "print(prediction_prob)"
   ]
  },
  {
   "cell_type": "code",
   "execution_count": 11,
   "metadata": {
    "executionInfo": {
     "elapsed": 344,
     "status": "ok",
     "timestamp": 1625172769235,
     "user": {
      "displayName": "Abhishek C",
      "photoUrl": "https://lh3.googleusercontent.com/a-/AOh14GjwxF4JEJ5cXi-ddE56kpTJOW5GKFexVNBXycHKBAk=s64",
      "userId": "10930949096524814571"
     },
     "user_tz": -330
    },
    "id": "v270K5Ihzfyg"
   },
   "outputs": [],
   "source": [
    "model1 = keras.Sequential()\n",
    "\n",
    "model1.add(Conv2D(128, kernel_size=(3, 3), input_shape=(192, 192, 3)))\n",
    "model1.add(Activation('relu'))\n",
    "model1.add(MaxPooling2D(pool_size=(2, 2)))\n",
    "\n",
    "model1.add(Flatten())  \n",
    "\n",
    "model1.add(Dense(1))\n",
    "model1.add(Activation(\"sigmoid\"))\n",
    "\n",
    "model1.compile(optimizer=keras.optimizers.Adam(learning_rate=0.001),\n",
    "                loss=tf.keras.losses.BinaryCrossentropy(),\n",
    "                metrics=[\"accuracy\"])"
   ]
  },
  {
   "cell_type": "code",
   "execution_count": 12,
   "metadata": {
    "colab": {
     "base_uri": "https://localhost:8080/"
    },
    "executionInfo": {
     "elapsed": 95986,
     "status": "ok",
     "timestamp": 1625172870651,
     "user": {
      "displayName": "Abhishek C",
      "photoUrl": "https://lh3.googleusercontent.com/a-/AOh14GjwxF4JEJ5cXi-ddE56kpTJOW5GKFexVNBXycHKBAk=s64",
      "userId": "10930949096524814571"
     },
     "user_tz": -330
    },
    "id": "wOvi3K-B0JT-",
    "outputId": "b3588b92-05af-457e-e7f3-907c0203e6ef"
   },
   "outputs": [
    {
     "name": "stdout",
     "output_type": "stream",
     "text": [
      "Epoch 1/20\n",
      "12/12 [==============================] - 5s 423ms/step - loss: 7.6429 - accuracy: 0.4667 - val_loss: 3.5417 - val_accuracy: 0.5000\n",
      "Epoch 2/20\n",
      "12/12 [==============================] - 5s 386ms/step - loss: 0.9727 - accuracy: 0.6667 - val_loss: 0.6511 - val_accuracy: 0.5500\n",
      "Epoch 3/20\n",
      "12/12 [==============================] - 4s 372ms/step - loss: 0.4875 - accuracy: 0.7333 - val_loss: 0.4434 - val_accuracy: 0.8500\n",
      "Epoch 4/20\n",
      "12/12 [==============================] - 5s 413ms/step - loss: 0.4173 - accuracy: 0.7667 - val_loss: 0.5788 - val_accuracy: 0.7000\n",
      "Epoch 5/20\n",
      "12/12 [==============================] - 5s 413ms/step - loss: 0.4143 - accuracy: 0.8333 - val_loss: 0.3844 - val_accuracy: 0.8500\n",
      "Epoch 6/20\n",
      "12/12 [==============================] - 4s 373ms/step - loss: 0.2387 - accuracy: 0.9333 - val_loss: 0.2743 - val_accuracy: 0.8500\n",
      "Epoch 7/20\n",
      "12/12 [==============================] - 4s 370ms/step - loss: 0.2279 - accuracy: 0.9000 - val_loss: 0.2055 - val_accuracy: 0.9000\n",
      "Epoch 8/20\n",
      "12/12 [==============================] - 5s 377ms/step - loss: 0.1973 - accuracy: 0.9333 - val_loss: 0.2309 - val_accuracy: 0.9500\n",
      "Epoch 9/20\n",
      "12/12 [==============================] - 4s 369ms/step - loss: 0.1649 - accuracy: 0.9167 - val_loss: 0.2572 - val_accuracy: 0.9000\n",
      "Epoch 10/20\n",
      "12/12 [==============================] - 5s 379ms/step - loss: 0.2365 - accuracy: 0.9167 - val_loss: 0.1966 - val_accuracy: 0.9500\n",
      "Epoch 11/20\n",
      "12/12 [==============================] - 5s 386ms/step - loss: 0.1176 - accuracy: 0.9833 - val_loss: 0.1186 - val_accuracy: 0.9500\n",
      "Epoch 12/20\n",
      "12/12 [==============================] - 4s 371ms/step - loss: 0.1173 - accuracy: 0.9500 - val_loss: 0.0913 - val_accuracy: 1.0000\n",
      "Epoch 13/20\n",
      "12/12 [==============================] - 5s 400ms/step - loss: 0.1280 - accuracy: 0.9500 - val_loss: 0.1338 - val_accuracy: 0.9000\n",
      "Epoch 14/20\n",
      "12/12 [==============================] - 4s 375ms/step - loss: 0.0828 - accuracy: 0.9667 - val_loss: 0.0928 - val_accuracy: 0.9500\n",
      "Epoch 15/20\n",
      "12/12 [==============================] - 5s 382ms/step - loss: 0.0952 - accuracy: 0.9333 - val_loss: 0.1305 - val_accuracy: 0.9000\n",
      "Epoch 16/20\n",
      "12/12 [==============================] - 4s 373ms/step - loss: 0.0793 - accuracy: 0.9667 - val_loss: 0.0541 - val_accuracy: 1.0000\n",
      "Epoch 17/20\n",
      "12/12 [==============================] - 5s 377ms/step - loss: 0.0632 - accuracy: 0.9833 - val_loss: 0.0079 - val_accuracy: 1.0000\n",
      "Epoch 18/20\n",
      "12/12 [==============================] - 5s 377ms/step - loss: 0.0895 - accuracy: 0.9833 - val_loss: 0.1260 - val_accuracy: 0.9500\n",
      "Epoch 19/20\n",
      "12/12 [==============================] - 5s 381ms/step - loss: 0.0522 - accuracy: 0.9833 - val_loss: 0.0726 - val_accuracy: 0.9500\n",
      "Epoch 20/20\n",
      "12/12 [==============================] - 4s 372ms/step - loss: 0.1163 - accuracy: 0.9500 - val_loss: 0.1752 - val_accuracy: 0.9000\n"
     ]
    }
   ],
   "source": [
    "history = model1.fit(train_image_gen, epochs=20, validation_data=test_image_gen)"
   ]
  },
  {
   "cell_type": "code",
   "execution_count": 13,
   "metadata": {
    "executionInfo": {
     "elapsed": 310,
     "status": "ok",
     "timestamp": 1625172619845,
     "user": {
      "displayName": "Abhishek C",
      "photoUrl": "https://lh3.googleusercontent.com/a-/AOh14GjwxF4JEJ5cXi-ddE56kpTJOW5GKFexVNBXycHKBAk=s64",
      "userId": "10930949096524814571"
     },
     "user_tz": -330
    },
    "id": "1P0JxkJm1iVq"
   },
   "outputs": [
    {
     "name": "stdout",
     "output_type": "stream",
     "text": [
      "12/12 [==============================] - 2s 198ms/step - loss: 0.1128 - accuracy: 0.9667\n"
     ]
    },
    {
     "data": {
      "text/plain": [
       "[0.11278032511472702, 0.9666666388511658]"
      ]
     },
     "execution_count": 13,
     "metadata": {},
     "output_type": "execute_result"
    }
   ],
   "source": [
    "model1.evaluate(train_image_gen)"
   ]
  },
  {
   "cell_type": "code",
   "execution_count": 14,
   "metadata": {},
   "outputs": [
    {
     "name": "stdout",
     "output_type": "stream",
     "text": [
      "4/4 [==============================] - 1s 149ms/step - loss: 0.0863 - accuracy: 0.9500\n"
     ]
    },
    {
     "data": {
      "text/plain": [
       "[0.08633328974246979, 0.949999988079071]"
      ]
     },
     "execution_count": 14,
     "metadata": {},
     "output_type": "execute_result"
    }
   ],
   "source": [
    "model1.evaluate(test_image_gen)"
   ]
  },
  {
   "cell_type": "code",
   "execution_count": 15,
   "metadata": {
    "executionInfo": {
     "elapsed": 339,
     "status": "ok",
     "timestamp": 1625173511240,
     "user": {
      "displayName": "Abhishek C",
      "photoUrl": "https://lh3.googleusercontent.com/a-/AOh14GjwxF4JEJ5cXi-ddE56kpTJOW5GKFexVNBXycHKBAk=s64",
      "userId": "10930949096524814571"
     },
     "user_tz": -330
    },
    "id": "DUgq5LxOzXg6"
   },
   "outputs": [],
   "source": [
    "model1.save('models/model_1.h5')"
   ]
  },
  {
   "cell_type": "code",
   "execution_count": 2,
   "metadata": {
    "colab": {
     "base_uri": "https://localhost:8080/"
    },
    "executionInfo": {
     "elapsed": 338,
     "status": "ok",
     "timestamp": 1625173531311,
     "user": {
      "displayName": "Abhishek C",
      "photoUrl": "https://lh3.googleusercontent.com/a-/AOh14GjwxF4JEJ5cXi-ddE56kpTJOW5GKFexVNBXycHKBAk=s64",
      "userId": "10930949096524814571"
     },
     "user_tz": -330
    },
    "id": "hLhRNJFL0PRw",
    "outputId": "bc45bec9-f7de-4424-fc80-444b399516d7"
   },
   "outputs": [],
   "source": [
    "saved_model = tf.keras.models.load_model('models/model_1.h5')"
   ]
  },
  {
   "cell_type": "code",
   "execution_count": 17,
   "metadata": {},
   "outputs": [
    {
     "name": "stdout",
     "output_type": "stream",
     "text": [
      "12/12 [==============================] - 2s 197ms/step - loss: 0.0934 - accuracy: 0.9667\n"
     ]
    },
    {
     "data": {
      "text/plain": [
       "[0.09341981261968613, 0.9666666388511658]"
      ]
     },
     "execution_count": 17,
     "metadata": {},
     "output_type": "execute_result"
    }
   ],
   "source": [
    "saved_model.evaluate(train_image_gen)"
   ]
  },
  {
   "cell_type": "code",
   "execution_count": 18,
   "metadata": {
    "id": "BSwdpdee5BaZ"
   },
   "outputs": [
    {
     "name": "stdout",
     "output_type": "stream",
     "text": [
      "4/4 [==============================] - 1s 161ms/step - loss: 0.1041 - accuracy: 0.9500\n"
     ]
    },
    {
     "data": {
      "text/plain": [
       "[0.10405488312244415, 0.949999988079071]"
      ]
     },
     "execution_count": 18,
     "metadata": {},
     "output_type": "execute_result"
    }
   ],
   "source": [
    "saved_model.evaluate(test_image_gen)"
   ]
  },
  {
   "cell_type": "code",
   "execution_count": null,
   "metadata": {},
   "outputs": [],
   "source": []
  }
 ],
 "metadata": {
  "colab": {
   "name": "fileV1.ipynb",
   "provenance": []
  },
  "kernelspec": {
   "display_name": "Python 3 (ipykernel)",
   "language": "python",
   "name": "python3"
  },
  "language_info": {
   "codemirror_mode": {
    "name": "ipython",
    "version": 3
   },
   "file_extension": ".py",
   "mimetype": "text/x-python",
   "name": "python",
   "nbconvert_exporter": "python",
   "pygments_lexer": "ipython3",
   "version": "3.8.10"
  },
  "toc": {
   "base_numbering": 1,
   "nav_menu": {},
   "number_sections": true,
   "sideBar": true,
   "skip_h1_title": false,
   "title_cell": "Table of Contents",
   "title_sidebar": "Contents",
   "toc_cell": false,
   "toc_position": {},
   "toc_section_display": true,
   "toc_window_display": false
  },
  "varInspector": {
   "cols": {
    "lenName": 16,
    "lenType": 16,
    "lenVar": "100"
   },
   "kernels_config": {
    "python": {
     "delete_cmd_postfix": "",
     "delete_cmd_prefix": "del ",
     "library": "var_list.py",
     "varRefreshCmd": "print(var_dic_list())"
    },
    "r": {
     "delete_cmd_postfix": ") ",
     "delete_cmd_prefix": "rm(",
     "library": "var_list.r",
     "varRefreshCmd": "cat(var_dic_list()) "
    }
   },
   "types_to_exclude": [
    "module",
    "function",
    "builtin_function_or_method",
    "instance",
    "_Feature"
   ],
   "window_display": false
  }
 },
 "nbformat": 4,
 "nbformat_minor": 1
}
