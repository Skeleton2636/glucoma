{
 "cells": [
  {
   "cell_type": "code",
   "execution_count": 25,
   "metadata": {},
   "outputs": [],
   "source": [
    "import os\n",
    "import glob\n",
    "import shutil\n",
    "import random\n",
    "\n",
    "import numpy as np\n",
    "import matplotlib.pyplot as plt\n",
    "# import cv2"
   ]
  },
  {
   "cell_type": "code",
   "execution_count": 26,
   "metadata": {},
   "outputs": [
    {
     "name": "stdout",
     "output_type": "stream",
     "text": [
      "2.3.0\n"
     ]
    }
   ],
   "source": [
    "import tensorflow as tf\n",
    "\n",
    "from tensorflow.keras.models import Sequential\n",
    "from tensorflow.keras.layers import Activation, Dropout, Flatten, Dense, Conv2D, InputLayer\n",
    "from tensorflow.keras.layers import MaxPooling2D, BatchNormalization, Dropout, GlobalAveragePooling2D\n",
    "\n",
    "from tensorflow.keras.preprocessing import image_dataset_from_directory\n",
    "\n",
    "print(tf.__version__)"
   ]
  },
  {
   "cell_type": "code",
   "execution_count": 27,
   "metadata": {},
   "outputs": [],
   "source": [
    "# test_img = cv2.imread(r'C:\\python\\Data Science Training\\Prjects\\glucoma\\Glaucoma\\2 (13).jpg')\n",
    "# test_img = cv2.cvtColor(test_img, cv2.COLOR_BGR2RGB)\n",
    "\n",
    "# plt.imshow(test_img)\n",
    "# test_img.shape"
   ]
  },
  {
   "cell_type": "code",
   "execution_count": 55,
   "metadata": {},
   "outputs": [],
   "source": [
    "train_dir = r\"dataset\\train\"\n",
    "test_dir = r\"dataset\\test\"\n",
    "\n",
    "BATCH_SIZE = 5\n",
    "IMG_SIZE = (192, 192)"
   ]
  },
  {
   "cell_type": "code",
   "execution_count": 56,
   "metadata": {},
   "outputs": [
    {
     "name": "stdout",
     "output_type": "stream",
     "text": [
      "Found 60 files belonging to 2 classes.\n"
     ]
    }
   ],
   "source": [
    "train_dataset = image_dataset_from_directory(train_dir,\n",
    "                                             shuffle=True,\n",
    "                                             batch_size=BATCH_SIZE,\n",
    "                                             image_size=IMG_SIZE,\n",
    "                                             label_mode='binary')"
   ]
  },
  {
   "cell_type": "code",
   "execution_count": 57,
   "metadata": {},
   "outputs": [
    {
     "name": "stdout",
     "output_type": "stream",
     "text": [
      "Found 20 files belonging to 2 classes.\n"
     ]
    }
   ],
   "source": [
    "test_dataset = image_dataset_from_directory(test_dir,\n",
    "                                              shuffle=True,\n",
    "                                              batch_size=BATCH_SIZE,\n",
    "                                              image_size=IMG_SIZE,\n",
    "                                              label_mode='binary')"
   ]
  },
  {
   "cell_type": "code",
   "execution_count": 66,
   "metadata": {},
   "outputs": [
    {
     "name": "stdout",
     "output_type": "stream",
     "text": [
      "1\n"
     ]
    }
   ],
   "source": [
    "count=0\n",
    "for x,y in train_dataset.take():\n",
    "    x=x\n",
    "    y=y\n",
    "    count=+1\n",
    "print(count)"
   ]
  },
  {
   "cell_type": "code",
   "execution_count": 71,
   "metadata": {},
   "outputs": [
    {
     "data": {
      "text/plain": [
       "<BatchDataset shapes: ((None, 192, 192, 3), (None, 1)), types: (tf.float32, tf.float32)>"
      ]
     },
     "execution_count": 71,
     "metadata": {},
     "output_type": "execute_result"
    }
   ],
   "source": [
    "train_dataset"
   ]
  },
  {
   "cell_type": "code",
   "execution_count": 17,
   "metadata": {},
   "outputs": [
    {
     "data": {
      "text/plain": [
       "['glu', 'non-glu']"
      ]
     },
     "execution_count": 17,
     "metadata": {},
     "output_type": "execute_result"
    }
   ],
   "source": [
    "train_dataset.class_names"
   ]
  },
  {
   "cell_type": "code",
   "execution_count": 18,
   "metadata": {},
   "outputs": [],
   "source": [
    "# to prefetch a bunch of images, so that the i/o doesnt get blocked\n",
    "\n",
    "AUTOTUNE = tf.data.experimental.AUTOTUNE\n",
    "\n",
    "train_dataset = train_dataset.prefetch(buffer_size=AUTOTUNE)\n",
    "test_dataset = test_dataset.prefetch(buffer_size=AUTOTUNE)"
   ]
  },
  {
   "cell_type": "code",
   "execution_count": 19,
   "metadata": {},
   "outputs": [],
   "source": [
    "data_augmentation = tf.keras.Sequential([\n",
    "    tf.keras.layers.experimental.preprocessing.RandomFlip('horizontal'),\n",
    "    tf.keras.layers.experimental.preprocessing.RandomFlip('vertical'),\n",
    "    tf.keras.layers.experimental.preprocessing.RandomRotation(0.2),\n",
    "    tf.keras.layers.experimental.preprocessing.RandomCrop(3, 3),\n",
    "    tf.keras.layers.experimental.preprocessing.RandomZoom(-0.5, 0.5),\n",
    "    tf.keras.layers.experimental.preprocessing.RandomWidth(0.2),\n",
    "    tf.keras.layers.experimental.preprocessing.RandomHeight(0.1),\n",
    "    tf.keras.layers.experimental.preprocessing.RandomContrast(0.3)\n",
    "])"
   ]
  },
  {
   "cell_type": "code",
   "execution_count": 20,
   "metadata": {},
   "outputs": [],
   "source": [
    "resize_and_rescale = tf.keras.Sequential([\n",
    "  tf.keras.layers.experimental.preprocessing.Resizing(192, 192),\n",
    "  tf.keras.layers.experimental.preprocessing.Rescaling(1./255.)\n",
    "])\n"
   ]
  },
  {
   "cell_type": "code",
   "execution_count": 22,
   "metadata": {},
   "outputs": [],
   "source": [
    "model = Sequential()\n",
    "\n",
    "#model.add(tf.keras.Input(shape=(192, 192, 3)))\n",
    "\n",
    "model.add(resize_and_rescale)\n",
    "model.add(data_augmentation)\n",
    "\n",
    "model.add(Conv2D(filters=16, kernel_size=(3, 3), activation='relu',\n",
    "                 padding='same', input_shape=(192, 192, 3)))\n",
    "model.add(MaxPooling2D(pool_size=(2,2), padding='same'))\n",
    "model.add(BatchNormalization())\n",
    "\n",
    "model.add(Conv2D(filters=32, kernel_size=(3, 3), activation='relu',\n",
    "                 padding='same', input_shape=(192, 192, 3)))\n",
    "model.add(MaxPooling2D(pool_size=(2,2), padding='same'))\n",
    "model.add(BatchNormalization())\n",
    "\n",
    "#model.add(GlobalAveragePooling2D())\n",
    "model.add(Flatten())\n",
    "model.add(Dense(64, activation='relu'))\n",
    "\n",
    "model.add(Dense(1, activation='sigmoid'))"
   ]
  },
  {
   "cell_type": "code",
   "execution_count": 23,
   "metadata": {},
   "outputs": [],
   "source": [
    "model.compile(loss='binary_crossentropy',\n",
    "              optimizer=tf.keras.optimizers.Adam(lr=0.001),\n",
    "              metrics=['accuracy'])"
   ]
  },
  {
   "cell_type": "code",
   "execution_count": 24,
   "metadata": {},
   "outputs": [
    {
     "ename": "ValueError",
     "evalue": "This model has not yet been built. Build the model first by calling `build()` or calling `fit()` with some data, or specify an `input_shape` argument in the first layer(s) for automatic build.",
     "output_type": "error",
     "traceback": [
      "\u001b[1;31m---------------------------------------------------------------------------\u001b[0m",
      "\u001b[1;31mValueError\u001b[0m                                Traceback (most recent call last)",
      "\u001b[1;32m<ipython-input-24-5f15418b3570>\u001b[0m in \u001b[0;36m<module>\u001b[1;34m\u001b[0m\n\u001b[1;32m----> 1\u001b[1;33m \u001b[0mmodel\u001b[0m\u001b[1;33m.\u001b[0m\u001b[0msummary\u001b[0m\u001b[1;33m(\u001b[0m\u001b[1;33m)\u001b[0m\u001b[1;33m\u001b[0m\u001b[1;33m\u001b[0m\u001b[0m\n\u001b[0m",
      "\u001b[1;32m~\\Anaconda3\\envs\\test\\lib\\site-packages\\tensorflow\\python\\keras\\engine\\training.py\u001b[0m in \u001b[0;36msummary\u001b[1;34m(self, line_length, positions, print_fn)\u001b[0m\n\u001b[0;32m   2349\u001b[0m     \"\"\"\n\u001b[0;32m   2350\u001b[0m     \u001b[1;32mif\u001b[0m \u001b[1;32mnot\u001b[0m \u001b[0mself\u001b[0m\u001b[1;33m.\u001b[0m\u001b[0mbuilt\u001b[0m\u001b[1;33m:\u001b[0m\u001b[1;33m\u001b[0m\u001b[1;33m\u001b[0m\u001b[0m\n\u001b[1;32m-> 2351\u001b[1;33m       raise ValueError('This model has not yet been built. '\n\u001b[0m\u001b[0;32m   2352\u001b[0m                        \u001b[1;34m'Build the model first by calling `build()` or calling '\u001b[0m\u001b[1;33m\u001b[0m\u001b[1;33m\u001b[0m\u001b[0m\n\u001b[0;32m   2353\u001b[0m                        \u001b[1;34m'`fit()` with some data, or specify '\u001b[0m\u001b[1;33m\u001b[0m\u001b[1;33m\u001b[0m\u001b[0m\n",
      "\u001b[1;31mValueError\u001b[0m: This model has not yet been built. Build the model first by calling `build()` or calling `fit()` with some data, or specify an `input_shape` argument in the first layer(s) for automatic build."
     ]
    }
   ],
   "source": [
    "model.summary()"
   ]
  },
  {
   "cell_type": "code",
   "execution_count": 146,
   "metadata": {
    "scrolled": true
   },
   "outputs": [
    {
     "name": "stdout",
     "output_type": "stream",
     "text": [
      "Epoch 1/50\n",
      "4/4 [==============================] - 2s 390ms/step - loss: 31.9508 - accuracy: 0.6406 - val_loss: 8.1453 - val_accuracy: 0.5000\n",
      "Epoch 2/50\n",
      "4/4 [==============================] - 1s 374ms/step - loss: 13.2770 - accuracy: 0.6719 - val_loss: 0.8845 - val_accuracy: 0.5000\n",
      "Epoch 3/50\n",
      "4/4 [==============================] - 2s 406ms/step - loss: 14.3992 - accuracy: 0.5469 - val_loss: 5.2201 - val_accuracy: 0.5000\n",
      "Epoch 4/50\n",
      "4/4 [==============================] - 2s 426ms/step - loss: 10.2625 - accuracy: 0.5781 - val_loss: 2.1555 - val_accuracy: 0.5000\n",
      "Epoch 5/50\n",
      "4/4 [==============================] - 1s 359ms/step - loss: 4.4513 - accuracy: 0.6094 - val_loss: 1.2317 - val_accuracy: 0.5000\n",
      "Epoch 6/50\n",
      "4/4 [==============================] - 2s 436ms/step - loss: 1.4838 - accuracy: 0.6406 - val_loss: 1.5482 - val_accuracy: 0.5000\n",
      "Epoch 7/50\n",
      "4/4 [==============================] - 1s 355ms/step - loss: 1.4121 - accuracy: 0.4844 - val_loss: 1.7387 - val_accuracy: 0.5000\n",
      "Epoch 8/50\n",
      "4/4 [==============================] - 2s 379ms/step - loss: 0.9643 - accuracy: 0.5625 - val_loss: 1.9070 - val_accuracy: 0.5000\n",
      "Epoch 9/50\n",
      "4/4 [==============================] - 1s 345ms/step - loss: 1.5884 - accuracy: 0.6406 - val_loss: 1.8827 - val_accuracy: 0.5000\n",
      "Epoch 10/50\n",
      "4/4 [==============================] - 2s 417ms/step - loss: 1.9890 - accuracy: 0.4219 - val_loss: 1.4155 - val_accuracy: 0.5000\n",
      "Epoch 11/50\n",
      "4/4 [==============================] - 1s 353ms/step - loss: 1.5988 - accuracy: 0.4844 - val_loss: 1.2789 - val_accuracy: 0.5000\n",
      "Epoch 12/50\n",
      "4/4 [==============================] - 1s 343ms/step - loss: 0.5606 - accuracy: 0.6875 - val_loss: 1.1803 - val_accuracy: 0.5000\n",
      "Epoch 13/50\n",
      "4/4 [==============================] - 1s 358ms/step - loss: 1.0119 - accuracy: 0.6406 - val_loss: 1.1140 - val_accuracy: 0.5000\n",
      "Epoch 14/50\n",
      "4/4 [==============================] - 1s 340ms/step - loss: 0.4614 - accuracy: 0.7969 - val_loss: 1.0631 - val_accuracy: 0.5000\n",
      "Epoch 15/50\n",
      "4/4 [==============================] - 1s 364ms/step - loss: 0.6872 - accuracy: 0.7500 - val_loss: 1.0053 - val_accuracy: 0.5000\n",
      "Epoch 16/50\n",
      "4/4 [==============================] - 1s 356ms/step - loss: 0.5392 - accuracy: 0.7344 - val_loss: 1.0203 - val_accuracy: 0.5000\n",
      "Epoch 17/50\n",
      "4/4 [==============================] - 1s 346ms/step - loss: 0.6865 - accuracy: 0.7500 - val_loss: 0.9390 - val_accuracy: 0.5000\n",
      "Epoch 18/50\n",
      "4/4 [==============================] - 1s 334ms/step - loss: 0.6194 - accuracy: 0.7188 - val_loss: 0.8232 - val_accuracy: 0.5000\n",
      "Epoch 19/50\n",
      "4/4 [==============================] - 1s 349ms/step - loss: 0.7470 - accuracy: 0.7031 - val_loss: 0.7700 - val_accuracy: 0.4375\n",
      "Epoch 20/50\n",
      "4/4 [==============================] - 1s 366ms/step - loss: 0.4768 - accuracy: 0.8281 - val_loss: 0.7430 - val_accuracy: 0.4375\n",
      "Epoch 21/50\n",
      "4/4 [==============================] - 1s 351ms/step - loss: 0.8634 - accuracy: 0.5938 - val_loss: 0.7256 - val_accuracy: 0.4375\n",
      "Epoch 22/50\n",
      "4/4 [==============================] - 1s 360ms/step - loss: 0.6510 - accuracy: 0.7344 - val_loss: 0.7833 - val_accuracy: 0.4375\n",
      "Epoch 23/50\n",
      "4/4 [==============================] - 1s 373ms/step - loss: 0.5059 - accuracy: 0.8281 - val_loss: 0.8544 - val_accuracy: 0.4375\n",
      "Epoch 24/50\n",
      "4/4 [==============================] - 2s 393ms/step - loss: 0.5981 - accuracy: 0.6250 - val_loss: 0.9005 - val_accuracy: 0.4375\n",
      "Epoch 25/50\n",
      "4/4 [==============================] - 2s 395ms/step - loss: 0.6092 - accuracy: 0.7969 - val_loss: 0.8976 - val_accuracy: 0.4375\n",
      "Epoch 26/50\n",
      "4/4 [==============================] - 2s 384ms/step - loss: 0.5028 - accuracy: 0.8125 - val_loss: 0.9496 - val_accuracy: 0.4375\n",
      "Epoch 27/50\n",
      "4/4 [==============================] - 1s 353ms/step - loss: 0.5304 - accuracy: 0.7812 - val_loss: 1.0461 - val_accuracy: 0.4375\n",
      "Epoch 28/50\n",
      "4/4 [==============================] - 2s 486ms/step - loss: 0.5415 - accuracy: 0.7344 - val_loss: 1.0642 - val_accuracy: 0.4375\n",
      "Epoch 29/50\n",
      "4/4 [==============================] - 2s 527ms/step - loss: 0.4030 - accuracy: 0.9062 - val_loss: 1.0905 - val_accuracy: 0.4375\n",
      "Epoch 30/50\n",
      "4/4 [==============================] - 2s 520ms/step - loss: 0.4793 - accuracy: 0.8750 - val_loss: 1.0350 - val_accuracy: 0.4375\n",
      "Epoch 31/50\n",
      "4/4 [==============================] - 2s 423ms/step - loss: 0.4766 - accuracy: 0.8438 - val_loss: 0.9664 - val_accuracy: 0.5000\n",
      "Epoch 32/50\n",
      "4/4 [==============================] - 2s 383ms/step - loss: 0.4742 - accuracy: 0.8125 - val_loss: 0.8805 - val_accuracy: 0.5625\n",
      "Epoch 33/50\n",
      "4/4 [==============================] - 2s 520ms/step - loss: 0.5935 - accuracy: 0.7500 - val_loss: 0.7891 - val_accuracy: 0.6875\n",
      "Epoch 34/50\n",
      "4/4 [==============================] - 2s 421ms/step - loss: 0.4707 - accuracy: 0.7500 - val_loss: 0.8334 - val_accuracy: 0.6250\n",
      "Epoch 35/50\n",
      "4/4 [==============================] - 2s 445ms/step - loss: 0.6808 - accuracy: 0.7812 - val_loss: 1.0163 - val_accuracy: 0.6250\n",
      "Epoch 36/50\n",
      "4/4 [==============================] - 1s 359ms/step - loss: 0.6834 - accuracy: 0.7344 - val_loss: 1.6120 - val_accuracy: 0.5625\n",
      "Epoch 37/50\n",
      "4/4 [==============================] - 2s 380ms/step - loss: 0.8661 - accuracy: 0.5938 - val_loss: 1.9699 - val_accuracy: 0.5625\n",
      "Epoch 38/50\n",
      "4/4 [==============================] - 2s 386ms/step - loss: 0.5418 - accuracy: 0.7656 - val_loss: 1.8907 - val_accuracy: 0.5625\n",
      "Epoch 39/50\n",
      "4/4 [==============================] - 1s 359ms/step - loss: 0.5785 - accuracy: 0.7344 - val_loss: 1.7095 - val_accuracy: 0.6250\n",
      "Epoch 40/50\n",
      "4/4 [==============================] - 1s 348ms/step - loss: 0.6529 - accuracy: 0.5625 - val_loss: 1.6612 - val_accuracy: 0.6250\n",
      "Epoch 41/50\n",
      "4/4 [==============================] - 2s 393ms/step - loss: 0.6080 - accuracy: 0.6719 - val_loss: 1.6158 - val_accuracy: 0.6250\n",
      "Epoch 42/50\n",
      "4/4 [==============================] - 1s 350ms/step - loss: 0.5565 - accuracy: 0.7188 - val_loss: 1.7239 - val_accuracy: 0.6250\n",
      "Epoch 43/50\n",
      "4/4 [==============================] - 1s 334ms/step - loss: 0.5504 - accuracy: 0.7188 - val_loss: 1.7804 - val_accuracy: 0.6250\n",
      "Epoch 44/50\n",
      "4/4 [==============================] - 1s 343ms/step - loss: 0.5641 - accuracy: 0.6875 - val_loss: 1.8159 - val_accuracy: 0.6250\n",
      "Epoch 45/50\n",
      "4/4 [==============================] - 1s 373ms/step - loss: 0.5972 - accuracy: 0.6406 - val_loss: 1.7556 - val_accuracy: 0.6250\n",
      "Epoch 46/50\n",
      "4/4 [==============================] - 1s 347ms/step - loss: 0.5721 - accuracy: 0.7188 - val_loss: 1.4692 - val_accuracy: 0.6875\n",
      "Epoch 47/50\n",
      "4/4 [==============================] - 1s 355ms/step - loss: 0.5659 - accuracy: 0.7969 - val_loss: 1.3138 - val_accuracy: 0.6250\n",
      "Epoch 48/50\n",
      "4/4 [==============================] - 2s 381ms/step - loss: 0.4895 - accuracy: 0.8125 - val_loss: 1.1865 - val_accuracy: 0.6250\n",
      "Epoch 49/50\n",
      "4/4 [==============================] - 1s 343ms/step - loss: 0.5379 - accuracy: 0.7344 - val_loss: 1.1376 - val_accuracy: 0.6250\n",
      "Epoch 50/50\n",
      "4/4 [==============================] - 1s 369ms/step - loss: 0.5469 - accuracy: 0.6719 - val_loss: 1.1230 - val_accuracy: 0.6250\n"
     ]
    }
   ],
   "source": [
    "results = model.fit_generator(train_dataset,\n",
    "                              epochs=50,\n",
    "                              validation_data=test_dataset)"
   ]
  },
  {
   "cell_type": "code",
   "execution_count": 147,
   "metadata": {},
   "outputs": [
    {
     "data": {
      "text/plain": [
       "<matplotlib.legend.Legend at 0x1ffbbcfc470>"
      ]
     },
     "execution_count": 147,
     "metadata": {},
     "output_type": "execute_result"
    },
    {
     "data": {
      "image/png": "[encoded data removed]",
      "text/plain": [
       "<Figure size 432x288 with 1 Axes>"
      ]
     },
     "metadata": {
      "needs_background": "light"
     },
     "output_type": "display_data"
    }
   ],
   "source": [
    "plt.title('Loss Graph')\n",
    "plt.plot(results.history['loss'], label='Training Loss')\n",
    "plt.plot(results.history['val_loss'], label='Testing Loss')\n",
    "plt.legend()"
   ]
  },
  {
   "cell_type": "code",
   "execution_count": 78,
   "metadata": {},
   "outputs": [
    {
     "name": "stdout",
     "output_type": "stream",
     "text": [
      " Volume in drive C is OS\n",
      " Volume Serial Number is DCB4-1DA7\n",
      "\n",
      " Directory of C:\\python\\Data Science Training\\Prjects\\glucoma\\models\n",
      "\n",
      "02-07-2021  02:36    <DIR>          .\n",
      "02-07-2021  02:36    <DIR>          ..\n",
      "02-07-2021  02:36         4,653,328 model.h5\n",
      "               1 File(s)      4,653,328 bytes\n",
      "               2 Dir(s)  24,230,289,408 bytes free\n"
     ]
    }
   ],
   "source": [
    "ls"
   ]
  },
  {
   "cell_type": "code",
   "execution_count": 79,
   "metadata": {},
   "outputs": [
    {
     "ename": "ValueError",
     "evalue": "No model found in config file.",
     "output_type": "error",
     "traceback": [
      "\u001b[1;31m---------------------------------------------------------------------------\u001b[0m",
      "\u001b[1;31mValueError\u001b[0m                                Traceback (most recent call last)",
      "\u001b[1;32m<ipython-input-79-a8c06518c146>\u001b[0m in \u001b[0;36m<module>\u001b[1;34m\u001b[0m\n\u001b[0;32m      1\u001b[0m \u001b[1;32mimport\u001b[0m \u001b[0mtensorflow\u001b[0m \u001b[1;32mas\u001b[0m \u001b[0mtf\u001b[0m\u001b[1;33m\u001b[0m\u001b[1;33m\u001b[0m\u001b[0m\n\u001b[0;32m      2\u001b[0m \u001b[1;33m\u001b[0m\u001b[0m\n\u001b[1;32m----> 3\u001b[1;33m \u001b[0msaved_model\u001b[0m \u001b[1;33m=\u001b[0m \u001b[0mtf\u001b[0m\u001b[1;33m.\u001b[0m\u001b[0mkeras\u001b[0m\u001b[1;33m.\u001b[0m\u001b[0mmodels\u001b[0m\u001b[1;33m.\u001b[0m\u001b[0mload_model\u001b[0m\u001b[1;33m(\u001b[0m\u001b[1;34m'model.h5'\u001b[0m\u001b[1;33m)\u001b[0m\u001b[1;33m\u001b[0m\u001b[1;33m\u001b[0m\u001b[0m\n\u001b[0m",
      "\u001b[1;32m~\\Anaconda3\\envs\\test\\lib\\site-packages\\tensorflow\\python\\keras\\saving\\save.py\u001b[0m in \u001b[0;36mload_model\u001b[1;34m(filepath, custom_objects, compile, options)\u001b[0m\n\u001b[0;32m    180\u001b[0m     if (h5py is not None and (\n\u001b[0;32m    181\u001b[0m         isinstance(filepath, h5py.File) or h5py.is_hdf5(filepath))):\n\u001b[1;32m--> 182\u001b[1;33m       \u001b[1;32mreturn\u001b[0m \u001b[0mhdf5_format\u001b[0m\u001b[1;33m.\u001b[0m\u001b[0mload_model_from_hdf5\u001b[0m\u001b[1;33m(\u001b[0m\u001b[0mfilepath\u001b[0m\u001b[1;33m,\u001b[0m \u001b[0mcustom_objects\u001b[0m\u001b[1;33m,\u001b[0m \u001b[0mcompile\u001b[0m\u001b[1;33m)\u001b[0m\u001b[1;33m\u001b[0m\u001b[1;33m\u001b[0m\u001b[0m\n\u001b[0m\u001b[0;32m    183\u001b[0m \u001b[1;33m\u001b[0m\u001b[0m\n\u001b[0;32m    184\u001b[0m     \u001b[0mfilepath\u001b[0m \u001b[1;33m=\u001b[0m \u001b[0mpath_to_string\u001b[0m\u001b[1;33m(\u001b[0m\u001b[0mfilepath\u001b[0m\u001b[1;33m)\u001b[0m\u001b[1;33m\u001b[0m\u001b[1;33m\u001b[0m\u001b[0m\n",
      "\u001b[1;32m~\\Anaconda3\\envs\\test\\lib\\site-packages\\tensorflow\\python\\keras\\saving\\hdf5_format.py\u001b[0m in \u001b[0;36mload_model_from_hdf5\u001b[1;34m(filepath, custom_objects, compile)\u001b[0m\n\u001b[0;32m    173\u001b[0m     \u001b[0mmodel_config\u001b[0m \u001b[1;33m=\u001b[0m \u001b[0mf\u001b[0m\u001b[1;33m.\u001b[0m\u001b[0mattrs\u001b[0m\u001b[1;33m.\u001b[0m\u001b[0mget\u001b[0m\u001b[1;33m(\u001b[0m\u001b[1;34m'model_config'\u001b[0m\u001b[1;33m)\u001b[0m\u001b[1;33m\u001b[0m\u001b[1;33m\u001b[0m\u001b[0m\n\u001b[0;32m    174\u001b[0m     \u001b[1;32mif\u001b[0m \u001b[0mmodel_config\u001b[0m \u001b[1;32mis\u001b[0m \u001b[1;32mNone\u001b[0m\u001b[1;33m:\u001b[0m\u001b[1;33m\u001b[0m\u001b[1;33m\u001b[0m\u001b[0m\n\u001b[1;32m--> 175\u001b[1;33m       \u001b[1;32mraise\u001b[0m \u001b[0mValueError\u001b[0m\u001b[1;33m(\u001b[0m\u001b[1;34m'No model found in config file.'\u001b[0m\u001b[1;33m)\u001b[0m\u001b[1;33m\u001b[0m\u001b[1;33m\u001b[0m\u001b[0m\n\u001b[0m\u001b[0;32m    176\u001b[0m     \u001b[0mmodel_config\u001b[0m \u001b[1;33m=\u001b[0m \u001b[0mjson\u001b[0m\u001b[1;33m.\u001b[0m\u001b[0mloads\u001b[0m\u001b[1;33m(\u001b[0m\u001b[0mmodel_config\u001b[0m\u001b[1;33m.\u001b[0m\u001b[0mdecode\u001b[0m\u001b[1;33m(\u001b[0m\u001b[1;34m'utf-8'\u001b[0m\u001b[1;33m)\u001b[0m\u001b[1;33m)\u001b[0m\u001b[1;33m\u001b[0m\u001b[1;33m\u001b[0m\u001b[0m\n\u001b[0;32m    177\u001b[0m     model = model_config_lib.model_from_config(model_config,\n",
      "\u001b[1;31mValueError\u001b[0m: No model found in config file."
     ]
    }
   ],
   "source": [
    "import tensorflow as tf\n",
    "\n",
    "saved_model = tf.keras.models.load_model('model.h5')"
   ]
  },
  {
   "cell_type": "code",
   "execution_count": null,
   "metadata": {},
   "outputs": [],
   "source": []
  },
  {
   "cell_type": "code",
   "execution_count": 150,
   "metadata": {},
   "outputs": [
    {
     "name": "stdout",
     "output_type": "stream",
     "text": [
      "[[0.99980026]]\n"
     ]
    }
   ],
   "source": [
    "import numpy as np\n",
    "from keras.preprocessing import image\n",
    "\n",
    "#C:\\python\\Data Science Training\\Prjects\\glucoma\\non-glucoma\\1 (13).jpg\n",
    "#C:\\python\\Data Science Training\\Prjects\\glucoma\\Glaucoma\\2 (13).jpg\n",
    "\n",
    "img_file = r'C:\\python\\Data Science Training\\Prjects\\glucoma\\non-glucoma\\1 (5).jpg'\n",
    "\n",
    "img_file = image.load_img(img_file, target_size=(192, 192))\n",
    "\n",
    "img_file = image.img_to_array(img_file)\n",
    "\n",
    "img_file = np.expand_dims(img_file, axis=0)\n",
    "img_file = img_file/255\n",
    "\n",
    "\n",
    "prediction_prob = model.predict(img_file)\n",
    "print(prediction_prob)"
   ]
  },
  {
   "cell_type": "code",
   "execution_count": null,
   "metadata": {},
   "outputs": [],
   "source": []
  }
 ],
 "metadata": {
  "kernelspec": {
   "display_name": "Python 3 (ipykernel)",
   "language": "python",
   "name": "python3"
  },
  "language_info": {
   "codemirror_mode": {
    "name": "ipython",
    "version": 3
   },
   "file_extension": ".py",
   "mimetype": "text/x-python",
   "name": "python",
   "nbconvert_exporter": "python",
   "pygments_lexer": "ipython3",
   "version": "3.8.10"
  },
  "toc": {
   "base_numbering": 1,
   "nav_menu": {},
   "number_sections": true,
   "sideBar": true,
   "skip_h1_title": false,
   "title_cell": "Table of Contents",
   "title_sidebar": "Contents",
   "toc_cell": false,
   "toc_position": {},
   "toc_section_display": true,
   "toc_window_display": false
  },
  "varInspector": {
   "cols": {
    "lenName": 16,
    "lenType": 16,
    "lenVar": "100"
   },
   "kernels_config": {
    "python": {
     "delete_cmd_postfix": "",
     "delete_cmd_prefix": "del ",
     "library": "var_list.py",
     "varRefreshCmd": "print(var_dic_list())"
    },
    "r": {
     "delete_cmd_postfix": ") ",
     "delete_cmd_prefix": "rm(",
     "library": "var_list.r",
     "varRefreshCmd": "cat(var_dic_list()) "
    }
   },
   "types_to_exclude": [
    "module",
    "function",
    "builtin_function_or_method",
    "instance",
    "_Feature"
   ],
   "window_display": false
  }
 },
 "nbformat": 4,
 "nbformat_minor": 4
}
